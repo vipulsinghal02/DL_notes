{
 "cells": [
  {
   "cell_type": "markdown",
   "metadata": {},
   "source": [
    "# Python Basics for Scientists\n",
    "\n",
    "Core Python syntax and concepts - breadth over depth"
   ]
  },
  {
   "cell_type": "markdown",
   "metadata": {},
   "source": [
    "## Variables and Basic Data Types"
   ]
  },
  {
   "cell_type": "code",
   "execution_count": 1,
   "metadata": {},
   "outputs": [
    {
     "name": "stdout",
     "output_type": "stream",
     "text": [
      "Pi is approximately 3.14\n",
      "<class 'complex'>\n"
     ]
    }
   ],
   "source": [
    "# Numbers\n",
    "integer_num = 42\n",
    "float_num = 3.14159\n",
    "complex_num = 2 + 3j\n",
    "\n",
    "# Strings\n",
    "single_quote = 'Hello'\n",
    "double_quote = \"World\"\n",
    "f_string = f\"Pi is approximately {float_num:.2f}\"\n",
    "\n",
    "# Boolean\n",
    "is_true = True\n",
    "is_false = False\n",
    "\n",
    "print(f_string)\n",
    "print(type(complex_num))"
   ]
  },
  {
   "cell_type": "markdown",
   "metadata": {},
   "source": [
    "## Collections: Lists, Tuples, Sets, Dictionaries"
   ]
  },
  {
   "cell_type": "code",
   "execution_count": 3,
   "metadata": {},
   "outputs": [
    {
     "name": "stdout",
     "output_type": "stream",
     "text": [
      "List: [1, 2, 3, 4, 5, 6]\n",
      "Coordinates: x=10.5, y=20.3\n",
      "Set: {1, 2, 3, 4}\n",
      "Temperature: 25.5°C\n"
     ]
    }
   ],
   "source": [
    "# Lists (mutable, ordered)\n",
    "data = [1, 2, 3, 4, 5]\n",
    "mixed_list = [1, 'hello', 3.14, True]\n",
    "data.append(6)\n",
    "print(f\"List: {data}\")\n",
    "\n",
    "# Tuples (immutable, ordered)\n",
    "coordinates = (10.5, 20.3)\n",
    "x, y = coordinates  # unpacking\n",
    "print(f\"Coordinates: x={x}, y={y}\")\n",
    "\n",
    "# Sets (unique elements)\n",
    "unique_nums = {1, 2, 2, 3, 3, 4}\n",
    "print(f\"Set: {unique_nums}\")\n",
    "\n",
    "# Dictionaries (key-value pairs)\n",
    "experiment = {\n",
    "    'temperature': 25.5,\n",
    "    'pressure': 1.013,\n",
    "    'compound': 'water'\n",
    "}\n",
    "print(f\"Temperature: {experiment['temperature']}°C\")"
   ]
  },
  {
   "cell_type": "markdown",
   "metadata": {},
   "source": [
    "## Control Flow"
   ]
  },
  {
   "cell_type": "code",
   "execution_count": null,
   "metadata": {},
   "outputs": [],
   "source": []
  },
  {
   "cell_type": "code",
   "execution_count": 2,
   "metadata": {},
   "outputs": [
    {
     "name": "stdout",
     "output_type": "stream",
     "text": [
      "Status: fever\n",
      "Average: 23.90\n",
      "Iteration 0\n",
      "Iteration 1\n",
      "Iteration 2\n"
     ]
    }
   ],
   "source": [
    "# If statements\n",
    "temperature = 37.5\n",
    "if temperature > 37:\n",
    "    status = \"fever\"\n",
    "elif temperature > 36:\n",
    "    status = \"normal\"\n",
    "else:\n",
    "    status = \"hypothermia\"\n",
    "print(f\"Status: {status}\")\n",
    "\n",
    "# For loops\n",
    "measurements = [23.1, 24.5, 22.8, 25.2]\n",
    "total = 0\n",
    "for measurement in measurements:\n",
    "    total += measurement\n",
    "average = total / len(measurements)\n",
    "print(f\"Average: {average:.2f}\")\n",
    "\n",
    "# While loop\n",
    "count = 0\n",
    "while count < 3:\n",
    "    print(f\"Iteration {count}\")\n",
    "    count += 1"
   ]
  },
  {
   "cell_type": "markdown",
   "metadata": {},
   "source": [
    "## Functions"
   ]
  },
  {
   "cell_type": "code",
   "execution_count": null,
   "metadata": {},
   "outputs": [],
   "source": [
    "# Basic function\n",
    "def celsius_to_fahrenheit(celsius):\n",
    "    return celsius * 9/5 + 32\n",
    "\n",
    "# Function with default parameters\n",
    "def calculate_volume(radius, height=1):\n",
    "    import math\n",
    "    return math.pi * radius**2 * height\n",
    "\n",
    "# Function with multiple return values\n",
    "def statistics(data):\n",
    "    return min(data), max(data), sum(data)/len(data)\n",
    "\n",
    "print(f\"100°C = {celsius_to_fahrenheit(100)}°F\")\n",
    "print(f\"Cylinder volume: {calculate_volume(2, 5):.2f}\")\n",
    "\n",
    "min_val, max_val, mean_val = statistics([1, 2, 3, 4, 5])\n",
    "print(f\"Min: {min_val}, Max: {max_val}, Mean: {mean_val}\")"
   ]
  },
  {
   "cell_type": "markdown",
   "metadata": {},
   "source": [
    "## List Comprehensions and Generators"
   ]
  },
  {
   "cell_type": "code",
   "execution_count": 4,
   "metadata": {},
   "outputs": [
    {
     "name": "stdout",
     "output_type": "stream",
     "text": [
      "Squares: [1, 4, 9, 16, 25]\n",
      "Even squares: [4, 16, 36, 64, 100]\n",
      "Fahrenheit: {'sample1': 77.0, 'sample2': 86.0, 'sample3': 82.4}\n",
      "First few large squares: [0, 1, 4, 9, 16]\n"
     ]
    }
   ],
   "source": [
    "# List comprehension\n",
    "squares = [x**2 for x in range(1, 6)]\n",
    "even_squares = [x**2 for x in range(1, 11) if x % 2 == 0]\n",
    "print(f\"Squares: {squares}\")\n",
    "print(f\"Even squares: {even_squares}\")\n",
    "\n",
    "# Dictionary comprehension\n",
    "temp_data = {'sample1': 25, 'sample2': 30, 'sample3': 28}\n",
    "temp_fahrenheit = {k: v * 9/5 + 32 for k, v in temp_data.items()}\n",
    "print(f\"Fahrenheit: {temp_fahrenheit}\")\n",
    "\n",
    "# Generator expression (memory efficient)\n",
    "large_squares = (x**2 for x in range(1000000))\n",
    "first_few = [next(large_squares) for _ in range(5)]\n",
    "print(f\"First few large squares: {first_few}\")"
   ]
  },
  {
   "cell_type": "markdown",
   "metadata": {},
   "source": [
    "## Error Handling"
   ]
  },
  {
   "cell_type": "code",
   "execution_count": 5,
   "metadata": {},
   "outputs": [
    {
     "name": "stdout",
     "output_type": "stream",
     "text": [
      "Division operation completed\n",
      "5.0\n",
      "Cannot divide by zero!\n",
      "Division operation completed\n",
      "None\n"
     ]
    }
   ],
   "source": [
    "# Try-except blocks\n",
    "def safe_divide(a, b):\n",
    "    try:\n",
    "        result = a / b\n",
    "        return result\n",
    "    except ZeroDivisionError:\n",
    "        print(\"Cannot divide by zero!\")\n",
    "        return None\n",
    "    except TypeError:\n",
    "        print(\"Invalid input types!\")\n",
    "        return None\n",
    "    finally:\n",
    "        print(\"Division operation completed\")\n",
    "\n",
    "print(safe_divide(10, 2))\n",
    "print(safe_divide(10, 0))"
   ]
  },
  {
   "cell_type": "markdown",
   "metadata": {},
   "source": [
    "## Classes and Objects"
   ]
  },
  {
   "cell_type": "code",
   "execution_count": 6,
   "metadata": {},
   "outputs": [
    {
     "name": "stdout",
     "output_type": "stream",
     "text": [
      "Experiment 'pH Test' at 22°C\n",
      "Average pH: 7.23\n"
     ]
    }
   ],
   "source": [
    "class Experiment:\n",
    "    def __init__(self, name, temperature=25):\n",
    "        self.name = name\n",
    "        self.temperature = temperature\n",
    "        self.measurements = []\n",
    "    \n",
    "    def add_measurement(self, value):\n",
    "        self.measurements.append(value)\n",
    "    \n",
    "    def get_average(self):\n",
    "        if self.measurements:\n",
    "            return sum(self.measurements) / len(self.measurements)\n",
    "        return 0\n",
    "    \n",
    "    def __str__(self):\n",
    "        return f\"Experiment '{self.name}' at {self.temperature}°C\"\n",
    "\n",
    "# Usage\n",
    "exp1 = Experiment(\"pH Test\", 22)\n",
    "exp1.add_measurement(7.2)\n",
    "exp1.add_measurement(7.4)\n",
    "exp1.add_measurement(7.1)\n",
    "\n",
    "print(exp1)\n",
    "print(f\"Average pH: {exp1.get_average():.2f}\")"
   ]
  },
  {
   "cell_type": "markdown",
   "metadata": {},
   "source": [
    "## File I/O"
   ]
  },
  {
   "cell_type": "code",
   "execution_count": 1,
   "metadata": {},
   "outputs": [
    {
     "name": "stdout",
     "output_type": "stream",
     "text": [
      "['measurement1,25.3\\n', 'measurement2,26.1\\n', 'measurement3,24.8\\n']\n"
     ]
    }
   ],
   "source": [
    "# Writing to file\n",
    "data_to_write = [\"measurement1,25.3\\n\", \"measurement2,26.1\\n\", \"measurement3,24.8\\n\"]\n",
    "print(data_to_write)\n"
   ]
  },
  {
   "cell_type": "code",
   "execution_count": 2,
   "metadata": {},
   "outputs": [],
   "source": [
    "\n",
    "with open(\"sample_data.csv\", \"w\") as file:\n",
    "    file.writelines(data_to_write)\n"
   ]
  },
  {
   "cell_type": "code",
   "execution_count": 3,
   "metadata": {},
   "outputs": [
    {
     "name": "stdout",
     "output_type": "stream",
     "text": [
      "measurement1: 25.3\n",
      "measurement2: 26.1\n",
      "measurement3: 24.8\n"
     ]
    }
   ],
   "source": [
    "\n",
    "# Reading from file\n",
    "with open(\"sample_data.csv\", \"r\") as file:\n",
    "    lines = file.readlines()\n",
    "    for line in lines:\n",
    "        name, value = line.strip().split(\",\")\n",
    "        print(f\"{name}: {value}\")\n",
    "\n",
    "# Clean up\n",
    "import os\n",
    "os.remove(\"sample_data.csv\")"
   ]
  },
  {
   "cell_type": "markdown",
   "metadata": {},
   "source": [
    "## Lambda Functions and Built-in Functions"
   ]
  },
  {
   "cell_type": "code",
   "execution_count": 4,
   "metadata": {},
   "outputs": [
    {
     "name": "stdout",
     "output_type": "stream",
     "text": [
      "Square of 5: 25\n",
      "Squared: [1, 4, 9, 16, 25]\n",
      "Evens: [2, 4]\n",
      "Product: 120\n",
      "Sum: 15.700000000000003\n",
      "Min: 1.9, Max: 4.2\n",
      "Sorted: [1.9, 2.8, 3.1, 3.7, 4.2]\n",
      "Length: 5\n"
     ]
    }
   ],
   "source": [
    "# Lambda functions\n",
    "square = lambda x: x**2\n",
    "print(f\"Square of 5: {square(5)}\")\n",
    "\n",
    "# Map, filter, reduce\n",
    "from functools import reduce\n",
    "\n",
    "numbers = [1, 2, 3, 4, 5]\n",
    "squared = list(map(lambda x: x**2, numbers))\n",
    "evens = list(filter(lambda x: x % 2 == 0, numbers))\n",
    "product = reduce(lambda x, y: x * y, numbers)\n",
    "\n",
    "print(f\"Squared: {squared}\")\n",
    "print(f\"Evens: {evens}\")\n",
    "print(f\"Product: {product}\")\n",
    "\n",
    "# Useful built-ins\n",
    "data = [3.1, 2.8, 4.2, 1.9, 3.7]\n",
    "print(f\"Sum: {sum(data)}\")\n",
    "print(f\"Min: {min(data)}, Max: {max(data)}\")\n",
    "print(f\"Sorted: {sorted(data)}\")\n",
    "print(f\"Length: {len(data)}\")"
   ]
  }
 ],
 "metadata": {
  "kernelspec": {
   "display_name": "tarray_dataex",
   "language": "python",
   "name": "python3"
  },
  "language_info": {
   "codemirror_mode": {
    "name": "ipython",
    "version": 3
   },
   "file_extension": ".py",
   "mimetype": "text/x-python",
   "name": "python",
   "nbconvert_exporter": "python",
   "pygments_lexer": "ipython3",
   "version": "3.11.13"
  }
 },
 "nbformat": 4,
 "nbformat_minor": 4
}
