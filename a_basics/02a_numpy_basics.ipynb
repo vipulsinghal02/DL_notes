{
 "cells": [
  {
   "cell_type": "markdown",
   "metadata": {},
   "source": [
    "# NumPy Basics for Scientists\n",
    "\n",
    "Numerical computing with arrays - core concepts and operations"
   ]
  },
  {
   "cell_type": "code",
   "execution_count": 2,
   "metadata": {},
   "outputs": [],
   "source": [
    "import numpy as np\n",
    "import matplotlib.pyplot as plt\n",
    "\n",
    "# Set print options for cleaner output\n",
    "np.set_printoptions(precision=3, suppress=True)"
   ]
  },
  {
   "cell_type": "markdown",
   "metadata": {},
   "source": [
    "## Creating Arrays"
   ]
  },
  {
   "cell_type": "code",
   "execution_count": 3,
   "metadata": {},
   "outputs": [
    {
     "name": "stdout",
     "output_type": "stream",
     "text": [
      "1D array: [1 2 3 4 5]\n",
      "2D array:\n",
      "[[1 2 3]\n",
      " [4 5 6]]\n",
      "Shape: (2, 3), Dimensions: 2\n",
      "\n",
      "Zeros array:\n",
      "[[0. 0. 0. 0.]\n",
      " [0. 0. 0. 0.]\n",
      " [0. 0. 0. 0.]]\n",
      "\n",
      "Random array:\n",
      "[[0.911 0.587 0.365]\n",
      " [0.924 0.104 0.213]]\n",
      "\n",
      "Sequence: [0 2 4 6 8]\n",
      "Linspace: [0.   0.25 0.5  0.75 1.  ]\n"
     ]
    }
   ],
   "source": [
    "# From lists\n",
    "data_1d = np.array([1, 2, 3, 4, 5])\n",
    "data_2d = np.array([[1, 2, 3], [4, 5, 6]])\n",
    "\n",
    "print(\"1D array:\", data_1d)\n",
    "print(\"2D array:\")\n",
    "print(data_2d)\n",
    "print(f\"Shape: {data_2d.shape}, Dimensions: {data_2d.ndim}\")\n",
    "\n",
    "# Special arrays\n",
    "zeros = np.zeros((3, 4))\n",
    "ones = np.ones((2, 3))\n",
    "identity = np.eye(3)\n",
    "random_data = np.random.random((2, 3))\n",
    "\n",
    "print(\"\\nZeros array:\")\n",
    "print(zeros)\n",
    "print(\"\\nRandom array:\")\n",
    "print(random_data)\n",
    "\n",
    "# Ranges\n",
    "sequence = np.arange(0, 10, 2)  # start, stop, step\n",
    "linspace_data = np.linspace(0, 1, 5)  # start, stop, num_points\n",
    "\n",
    "print(f\"\\nSequence: {sequence}\")\n",
    "print(f\"Linspace: {linspace_data}\")"
   ]
  },
  {
   "cell_type": "markdown",
   "metadata": {},
   "source": [
    "## Array Indexing and Slicing"
   ]
  },
  {
   "cell_type": "code",
   "execution_count": null,
   "metadata": {},
   "outputs": [
    {
     "name": "stdout",
     "output_type": "stream",
     "text": [
      "Original matrix:\n",
      "[[ 1  2  3  4]\n",
      " [ 5  6  7  8]\n",
      " [ 9 10 11 12]]\n",
      "\n",
      "Element at [1,2]: 7\n",
      "First row: [1 2 3 4]\n",
      "Last column: [ 4  8 12]\n",
      "\n",
      "Submatrix [0:2, 1:3]:\n",
      "[[2 3]\n",
      " [6 7]]\n",
      "\n",
      "Elements > 6: [ 7  8  9 10 11 12]\n",
      "Boolean mask:\n",
      "[[False False False False]\n",
      " [False False  True  True]\n",
      " [ True  True  True  True]]\n",
      "\n",
      "Selected elements: [ 2 12]\n",
      "(array([[0],\n",
      "       [2]]), array([[1, 3]]))\n"
     ]
    },
    {
     "data": {
      "text/plain": [
       "array([[ 2,  4],\n",
       "       [10, 12]])"
      ]
     },
     "execution_count": 7,
     "metadata": {},
     "output_type": "execute_result"
    }
   ],
   "source": [
    "# Create sample data\n",
    "matrix = np.array([[1, 2, 3, 4],\n",
    "                   [5, 6, 7, 8],\n",
    "                   [9, 10, 11, 12]])\n",
    "\n",
    "print(\"Original matrix:\")\n",
    "print(matrix)\n",
    "\n",
    "# Basic indexing\n",
    "print(f\"\\nElement at [1,2]: {matrix[1, 2]}\")\n",
    "print(f\"First row: {matrix[0, :]}\")\n",
    "print(f\"Last column: {matrix[:, -1]}\")\n",
    "\n",
    "# Slicing\n",
    "print(\"\\nSubmatrix [0:2, 1:3]:\")\n",
    "print(matrix[0:2, 1:3])\n",
    "\n",
    "# Boolean indexing\n",
    "mask = matrix > 6\n",
    "print(f\"\\nElements > 6: {matrix[mask]}\")\n",
    "print(\"Boolean mask:\")\n",
    "print(mask)\n",
    "\n",
    "# Fancy indexing\n",
    "rows = [0, 2]\n",
    "cols = [1, 3]\n",
    "print(f\"\\nSelected elements: {matrix[rows, cols]}\") \n",
    "#!! Notice how its not the submatrix comprising rows 0, 2 and cols 1, 3. \n",
    "# Instead its a list of two elements, first one 0,1 and second one 2,3. \n",
    "# This is different from the slicing submatrix example above (contiguous blocks allowed in submatrix. \n",
    "# I guess you cannot do non contiguous blocks. )\n",
    "\n",
    "# 3. How to get a non-contiguous submatrix?\n",
    "\n",
    "# You need to use indexing tricks:\n",
    "\n",
    "# Use np.ix_() to form the Cartesian product:\n",
    "\n",
    "# print(matrix[np.ix_([0, 2], [1, 3])])\n",
    "\n",
    "# Output is the 2×2 submatrix:\n",
    "\n",
    "\n",
    "# [[ 1  3]\n",
    "#  [ 9 11]]\n",
    "\n",
    "\n",
    "# So:\n",
    "\n",
    "# matrix[rows, cols] → pairwise selection → [matrix[0,1], matrix[2,3]]\n",
    "\n",
    "# matrix[np.ix_(rows, cols)] → submatrix from all row–col combinations.\n",
    "\n",
    "print(np.ix_([0, 2], [1, 3]))\n",
    "matrix[np.ix_([0, 2], [1, 3])]\n",
    "# array([[ 2,  4],\n",
    "#        [10, 12]])"
   ]
  },
  {
   "cell_type": "markdown",
   "metadata": {},
   "source": [
    "## Array Operations"
   ]
  },
  {
   "cell_type": "code",
   "execution_count": null,
   "metadata": {},
   "outputs": [
    {
     "name": "stdout",
     "output_type": "stream",
     "text": [
      "a = [1 2 3 4]\n",
      "b = [5 6 7 8]\n",
      "a + b = [ 6  8 10 12]\n",
      "a * b = [ 5 12 21 32]\n",
      "a / b = [0.2   0.333 0.429 0.5  ]\n",
      "a ** 2 = [ 1  4  9 16]\n",
      "\n",
      "Scalar operations:\n",
      "Matrix * 2:\n",
      "[[ 2  4  6]\n",
      " [ 8 10 12]]\n",
      "Matrix + 100:\n",
      "[[101 102 103]\n",
      " [104 105 106]]\n",
      "\n",
      "Broadcasting:\n",
      "Matrix:\n",
      "[[1 2 3]\n",
      " [4 5 6]]\n",
      "Vector: [10 20 30]\n",
      "Matrix + Vector:\n",
      "[[11 22 33]\n",
      " [14 25 36]]\n",
      "\n",
      "Broadcasting:\n",
      "Matrix:\n",
      "[[1 2 3]\n",
      " [4 5 6]]\n",
      "Vector: [[10]\n",
      " [20]]\n",
      "Matrix + Vector:\n",
      "[[11 12 13]\n",
      " [24 25 26]]\n"
     ]
    }
   ],
   "source": [
    "# Element-wise operations\n",
    "a = np.array([1, 2, 3, 4])\n",
    "b = np.array([5, 6, 7, 8])\n",
    "\n",
    "print(f\"a = {a}\")\n",
    "print(f\"b = {b}\")\n",
    "print(f\"a + b = {a + b}\")\n",
    "print(f\"a * b = {a * b}\")\n",
    "print(f\"a / b = {a / b}\")\n",
    "print(f\"a ** 2 = {a ** 2}\")\n",
    "\n",
    "\n",
    "# Scalar operations\n",
    "print(\"\\nScalar operations:\")\n",
    "print(f\"Matrix * 2:\\n{matrix * 2}\")\n",
    "print(f\"Matrix + 100:\\n{matrix + 100}\")\n",
    "\n",
    "# Broadcasting\n",
    "matrix = np.array([[1, 2, 3],\n",
    "                   [4, 5, 6]])\n",
    "vector = np.array([10, 20, 30])\n",
    "\n",
    "print(\"\\nBroadcasting:\")\n",
    "print(\"Matrix:\")\n",
    "print(matrix)\n",
    "print(f\"Vector: {vector}\")\n",
    "print(\"Matrix + Vector:\")\n",
    "print(matrix + vector)\n",
    "\n",
    "# Broadcasting possible column wise? yes. \n",
    "matrix = np.array([[1, 2, 3],\n",
    "                   [4, 5, 6]])\n",
    "vector = np.array([[10], [20]])\n",
    "\n",
    "print(\"\\nBroadcasting:\")\n",
    "print(\"Matrix:\")\n",
    "print(matrix)\n",
    "print(f\"Vector: {vector}\")\n",
    "print(\"Matrix + Vector:\")\n",
    "print(matrix + vector)"
   ]
  },
  {
   "cell_type": "code",
   "execution_count": null,
   "metadata": {},
   "outputs": [],
   "source": []
  },
  {
   "cell_type": "markdown",
   "metadata": {},
   "source": [
    "## Mathematical Functions"
   ]
  },
  {
   "cell_type": "code",
   "execution_count": 11,
   "metadata": {},
   "outputs": [
    {
     "name": "stdout",
     "output_type": "stream",
     "text": [
      "Angles: [0.    0.785 1.571 3.142]\n",
      "Sine: [0.    0.707 1.    0.   ]\n",
      "Cosine: [ 1.     0.707  0.    -1.   ]\n",
      "\n",
      "x = [1 2 3 4]\n",
      "exp(x) = [ 2.718  7.389 20.086 54.598]\n",
      "log(x) = [0.    0.693 1.099 1.386]\n",
      "log10(x) = [0.    0.301 0.477 0.602]\n",
      "sqrt(x) = [1.    1.414 1.732 2.   ]\n",
      "\n",
      "Statistics on 1000 random numbers:\n",
      "Mean: 0.049\n",
      "Std: 0.981\n",
      "Min: -3.886\n",
      "Max: 3.177\n",
      "Median: 0.025\n"
     ]
    }
   ],
   "source": [
    "# Trigonometric functions\n",
    "angles = np.array([0, np.pi/4, np.pi/2, np.pi])\n",
    "print(f\"Angles: {angles}\")\n",
    "print(f\"Sine: {np.sin(angles)}\")\n",
    "print(f\"Cosine: {np.cos(angles)}\")\n",
    "\n",
    "# Exponential and logarithmic\n",
    "x = np.array([1, 2, 3, 4])\n",
    "print(f\"\\nx = {x}\")\n",
    "print(f\"exp(x) = {np.exp(x)}\")\n",
    "print(f\"log(x) = {np.log(x)}\")\n",
    "print(f\"log10(x) = {np.log10(x)}\")\n",
    "print(f\"sqrt(x) = {np.sqrt(x)}\")\n",
    "\n",
    "# Statistical functions\n",
    "data = np.random.normal(0, 1, 1000)  # Normal distribution\n",
    "print(f\"\\nStatistics on 1000 random numbers:\")\n",
    "print(f\"Mean: {np.mean(data):.3f}\")\n",
    "print(f\"Std: {np.std(data):.3f}\")\n",
    "print(f\"Min: {np.min(data):.3f}\")\n",
    "print(f\"Max: {np.max(data):.3f}\")\n",
    "print(f\"Median: {np.median(data):.3f}\")"
   ]
  },
  {
   "cell_type": "markdown",
   "metadata": {},
   "source": [
    "## Array Manipulation"
   ]
  },
  {
   "cell_type": "code",
   "execution_count": 12,
   "metadata": {},
   "outputs": [
    {
     "name": "stdout",
     "output_type": "stream",
     "text": [
      "Original (12,): [ 0  1  2  3  4  5  6  7  8  9 10 11]\n",
      "Reshaped (3,4):\n",
      "[[ 0  1  2  3]\n",
      " [ 4  5  6  7]\n",
      " [ 8  9 10 11]]\n",
      "Flattened: [ 0  1  2  3  4  5  6  7  8  9 10 11]\n",
      "\n",
      "Original matrix (2,3):\n",
      "[[1 2 3]\n",
      " [4 5 6]]\n",
      "Transposed (3,2):\n",
      "[[1 4]\n",
      " [2 5]\n",
      " [3 6]]\n",
      "\n",
      "Horizontal stack:\n",
      "[[1 2 5 6]\n",
      " [3 4 7 8]]\n",
      "Vertical stack:\n",
      "[[1 2]\n",
      " [3 4]\n",
      " [5 6]\n",
      " [7 8]]\n",
      "\n",
      "Original: [0 1 2 3 4 5 6 7]\n",
      "Split into 4: [array([0, 1]), array([2, 3]), array([4, 5]), array([6, 7])]\n"
     ]
    }
   ],
   "source": [
    "# Reshaping\n",
    "original = np.arange(12)\n",
    "reshaped = original.reshape(3, 4)\n",
    "flattened = reshaped.flatten()\n",
    "\n",
    "print(f\"Original (12,): {original}\")\n",
    "print(f\"Reshaped (3,4):\\n{reshaped}\")\n",
    "print(f\"Flattened: {flattened}\")\n",
    "\n",
    "# Transposing\n",
    "matrix = np.array([[1, 2, 3],\n",
    "                   [4, 5, 6]])\n",
    "print(f\"\\nOriginal matrix (2,3):\\n{matrix}\")\n",
    "print(f\"Transposed (3,2):\\n{matrix.T}\")\n",
    "\n",
    "# Concatenation\n",
    "a = np.array([[1, 2], [3, 4]])\n",
    "b = np.array([[5, 6], [7, 8]])\n",
    "\n",
    "horizontal = np.hstack([a, b])  # or np.concatenate([a, b], axis=1)\n",
    "vertical = np.vstack([a, b])    # or np.concatenate([a, b], axis=0)\n",
    "\n",
    "print(f\"\\nHorizontal stack:\\n{horizontal}\")\n",
    "print(f\"Vertical stack:\\n{vertical}\")\n",
    "\n",
    "# Splitting\n",
    "array_to_split = np.arange(8)\n",
    "split_arrays = np.split(array_to_split, 4)\n",
    "print(f\"\\nOriginal: {array_to_split}\")\n",
    "print(f\"Split into 4: {split_arrays}\")"
   ]
  },
  {
   "cell_type": "markdown",
   "metadata": {},
   "source": [
    "## Linear Algebra"
   ]
  },
  {
   "cell_type": "code",
   "execution_count": 13,
   "metadata": {},
   "outputs": [
    {
     "name": "stdout",
     "output_type": "stream",
     "text": [
      "Matrix A:\n",
      "[[1 2]\n",
      " [3 4]]\n",
      "Matrix B:\n",
      "[[5 6]\n",
      " [7 8]]\n",
      "\n",
      "A @ B (matrix multiplication):\n",
      "[[19 22]\n",
      " [43 50]]\n",
      "\n",
      "Determinant of A: -2.0000000000000004\n",
      "Inverse of A:\n",
      "[[-2.   1. ]\n",
      " [ 1.5 -0.5]]\n",
      "Eigenvalues: [-0.372  5.372]\n",
      "\n",
      "Solution to Ax = b: [0.  0.5]\n",
      "Verification Ax = [1. 2.]\n"
     ]
    }
   ],
   "source": [
    "# Matrix multiplication\n",
    "A = np.array([[1, 2],\n",
    "              [3, 4]])\n",
    "B = np.array([[5, 6],\n",
    "              [7, 8]])\n",
    "\n",
    "print(\"Matrix A:\")\n",
    "print(A)\n",
    "print(\"Matrix B:\")\n",
    "print(B)\n",
    "\n",
    "# Dot product\n",
    "dot_product = np.dot(A, B)  # or A @ B\n",
    "print(f\"\\nA @ B (matrix multiplication):\\n{dot_product}\")\n",
    "\n",
    "# Linear algebra operations\n",
    "det_A = np.linalg.det(A)\n",
    "inv_A = np.linalg.inv(A)\n",
    "eigenvals, eigenvecs = np.linalg.eig(A)\n",
    "\n",
    "print(f\"\\nDeterminant of A: {det_A}\")\n",
    "print(f\"Inverse of A:\\n{inv_A}\")\n",
    "print(f\"Eigenvalues: {eigenvals}\")\n",
    "\n",
    "# Solving linear equations Ax = b\n",
    "b = np.array([1, 2])\n",
    "x = np.linalg.solve(A, b)\n",
    "print(f\"\\nSolution to Ax = b: {x}\")\n",
    "print(f\"Verification Ax = {A @ x}\")"
   ]
  },
  {
   "cell_type": "markdown",
   "metadata": {},
   "source": [
    "## Random Number Generation"
   ]
  },
  {
   "cell_type": "code",
   "execution_count": 14,
   "metadata": {},
   "outputs": [
    {
     "name": "stdout",
     "output_type": "stream",
     "text": [
      "Uniform [0,1]: [0.375 0.951 0.732 0.599 0.156]\n",
      "Normal (0,1): [ 0.279  1.011 -0.581 -0.525 -0.571]\n",
      "Random integers [1,10): [6 9 1 3 7]\n",
      "Random choice: ['A' 'C' 'A' 'C' 'C']\n",
      "\n",
      "Sample from 0-99: [45 73 27 19 42 21 29 81 71 18]\n",
      "Shuffled deck (first 10): [41 14 19 16 44 40 46 33 17 24]\n"
     ]
    }
   ],
   "source": [
    "# Set seed for reproducibility\n",
    "np.random.seed(42)\n",
    "\n",
    "# Different distributions\n",
    "uniform = np.random.uniform(0, 1, 5)\n",
    "normal = np.random.normal(0, 1, 5)\n",
    "integers = np.random.randint(1, 10, 5)\n",
    "choice = np.random.choice(['A', 'B', 'C'], 5)\n",
    "\n",
    "print(f\"Uniform [0,1]: {uniform}\")\n",
    "print(f\"Normal (0,1): {normal}\")\n",
    "print(f\"Random integers [1,10): {integers}\")\n",
    "print(f\"Random choice: {choice}\")\n",
    "\n",
    "# Random sampling\n",
    "population = np.arange(100)\n",
    "sample = np.random.choice(population, size=10, replace=False)\n",
    "print(f\"\\nSample from 0-99: {sample}\")\n",
    "\n",
    "# Shuffle\n",
    "deck = np.arange(1, 53)  # deck of cards\n",
    "np.random.shuffle(deck)\n",
    "print(f\"Shuffled deck (first 10): {deck[:10]}\")"
   ]
  },
  {
   "cell_type": "markdown",
   "metadata": {},
   "source": [
    "## Working with Real Data Example"
   ]
  },
  {
   "cell_type": "code",
   "execution_count": 15,
   "metadata": {},
   "outputs": [
    {
     "name": "stdout",
     "output_type": "stream",
     "text": [
      "Time range: 0.0 to 10.0\n",
      "Signal statistics:\n",
      "  Mean: 0.014\n",
      "  Std: 1.452\n",
      "  Min: -2.694\n",
      "  Max: 2.872\n",
      "\n",
      "Found 14 peaks\n",
      "Peak times: [0.202 1.212 2.121 2.323 3.333 4.343 5.253 6.263 6.465 7.273 8.081 8.283\n",
      " 9.091 9.293]\n",
      "Peak values: [2.051 2.689 2.126 2.38  1.382 1.952 2.872 2.151 1.149 2.561 1.6   2.788\n",
      " 1.656 2.018]\n",
      "\n",
      "Smoothed signal length: 96\n",
      "Smoothed signal std: 0.907 (vs original: 1.452)\n"
     ]
    }
   ],
   "source": [
    "# Simulate experimental data\n",
    "np.random.seed(123)\n",
    "n_samples = 100\n",
    "time = np.linspace(0, 10, n_samples)\n",
    "signal = 2 * np.sin(2 * np.pi * time) + 0.5 * np.random.normal(0, 1, n_samples)\n",
    "\n",
    "print(f\"Time range: {time[0]:.1f} to {time[-1]:.1f}\")\n",
    "print(f\"Signal statistics:\")\n",
    "print(f\"  Mean: {np.mean(signal):.3f}\")\n",
    "print(f\"  Std: {np.std(signal):.3f}\")\n",
    "print(f\"  Min: {np.min(signal):.3f}\")\n",
    "print(f\"  Max: {np.max(signal):.3f}\")\n",
    "\n",
    "# Data analysis\n",
    "# Find peaks (simple approach)\n",
    "peak_indices = []\n",
    "for i in range(1, len(signal)-1):\n",
    "    if signal[i] > signal[i-1] and signal[i] > signal[i+1] and signal[i] > 1:\n",
    "        peak_indices.append(i)\n",
    "\n",
    "peak_times = time[peak_indices]\n",
    "peak_values = signal[peak_indices]\n",
    "\n",
    "print(f\"\\nFound {len(peak_indices)} peaks\")\n",
    "print(f\"Peak times: {peak_times}\")\n",
    "print(f\"Peak values: {peak_values}\")\n",
    "\n",
    "# Moving average (smoothing)\n",
    "window_size = 5\n",
    "smoothed = np.convolve(signal, np.ones(window_size)/window_size, mode='valid')\n",
    "smoothed_time = time[window_size//2:len(smoothed)+window_size//2]\n",
    "\n",
    "print(f\"\\nSmoothed signal length: {len(smoothed)}\")\n",
    "print(f\"Smoothed signal std: {np.std(smoothed):.3f} (vs original: {np.std(signal):.3f})\")"
   ]
  },
  {
   "cell_type": "markdown",
   "metadata": {},
   "source": [
    "## Performance Tips"
   ]
  },
  {
   "cell_type": "code",
   "execution_count": 17,
   "metadata": {},
   "outputs": [
    {
     "name": "stdout",
     "output_type": "stream",
     "text": [
      "(1000000,)\n"
     ]
    }
   ],
   "source": [
    "# Vectorized operations vs loops\n",
    "import time\n",
    "\n",
    "# Create large array\n",
    "large_array = np.random.random(1000000)\n",
    "print(large_array.shape)"
   ]
  },
  {
   "cell_type": "code",
   "execution_count": 18,
   "metadata": {},
   "outputs": [
    {
     "name": "stdout",
     "output_type": "stream",
     "text": [
      "Vectorized (1M elements): 0.006413 seconds\n",
      "Loop (1K elements): 0.002295 seconds\n",
      "Estimated speedup: ~358x\n",
      "\n",
      "Array memory usage:\n",
      "1M float64 elements: 7.6 MB\n",
      "Data type: float64\n"
     ]
    }
   ],
   "source": [
    "\n",
    "# Vectorized operation\n",
    "start = time.time()\n",
    "result_vectorized = np.sqrt(large_array)\n",
    "time_vectorized = time.time() - start\n",
    "\n",
    "# Loop operation (don't run this on large arrays!)\n",
    "small_array = np.random.random(1000)\n",
    "start = time.time()\n",
    "result_loop = []\n",
    "for x in small_array:\n",
    "    result_loop.append(x**0.5)\n",
    "result_loop = np.array(result_loop)\n",
    "time_loop = time.time() - start\n",
    "\n",
    "print(f\"Vectorized (1M elements): {time_vectorized:.6f} seconds\")\n",
    "print(f\"Loop (1K elements): {time_loop:.6f} seconds\")\n",
    "print(f\"Estimated speedup: ~{time_loop * 1000 / time_vectorized:.0f}x\")\n",
    "\n",
    "# Memory efficiency\n",
    "print(f\"\\nArray memory usage:\")\n",
    "print(f\"1M float64 elements: {large_array.nbytes / 1024 / 1024:.1f} MB\")\n",
    "print(f\"Data type: {large_array.dtype}\")\n",
    "\n",
    "# In-place operations save memory\n",
    "array_copy = large_array.copy()\n",
    "array_copy *= 2  # in-place\n",
    "# vs: new_array = large_array * 2  # creates new array"
   ]
  }
 ],
 "metadata": {
  "kernelspec": {
   "display_name": "tarray_dataex",
   "language": "python",
   "name": "python3"
  },
  "language_info": {
   "codemirror_mode": {
    "name": "ipython",
    "version": 3
   },
   "file_extension": ".py",
   "mimetype": "text/x-python",
   "name": "python",
   "nbconvert_exporter": "python",
   "pygments_lexer": "ipython3",
   "version": "3.11.13"
  }
 },
 "nbformat": 4,
 "nbformat_minor": 4
}
